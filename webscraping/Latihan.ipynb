{
 "cells": [
  {
   "cell_type": "markdown",
   "metadata": {},
   "source": [
    "NIM           : 170010133\n",
    "\n",
    "NAMA LENGKAP  : I Kadek wahyu Diana"
   ]
  },
  {
   "cell_type": "markdown",
   "metadata": {},
   "source": [
    "### Latihan\n",
    "\n",
    "Instruksi pengerjaan:\n",
    "- Tulis kode program di tempat yang sudah disediakan\n",
    "- Jangan menambah, menghapus, ataupun memodifikasi kode program yang sudah secara _default_ tersedia."
   ]
  },
  {
   "cell_type": "code",
   "execution_count": 1,
   "metadata": {},
   "outputs": [],
   "source": [
    "from urllib.request import urlopen\n",
    "from urllib.error import HTTPError\n",
    "from urllib.error import URLError\n",
    "from bs4 import BeautifulSoup\n",
    "from collections import Counter"
   ]
  },
  {
   "cell_type": "code",
   "execution_count": 2,
   "metadata": {},
   "outputs": [],
   "source": [
    "url = {'url1': 'http://www.pythonscraping.com/pages/page1.html',\n",
    "       'url2': 'http://www.pythonscraping.com/pages/warandpeace.html',\n",
    "       'url3': 'http://www.pythonscraping.com/pages/page3.html'}"
   ]
  },
  {
   "cell_type": "code",
   "execution_count": 3,
   "metadata": {},
   "outputs": [
    {
     "output_type": "stream",
     "name": "stdout",
     "text": "url1 :\n<h1>An Interesting Title</h1>\nurl2 :\n<h1>War and Peace</h1>\nurl3 :\n<h1>Totally Normal Gifts</h1>\n"
    }
   ],
   "source": [
    "def read_html(url):\n",
    "    \"\"\" \n",
    "    url         : Website URL yang akan di-parsing\n",
    "    html_parser : Tipe HTML parser yang akan digunakan\n",
    "    \"\"\"\n",
    "    try:\n",
    "        html = urlopen(url)\n",
    "        bsObj = BeautifulSoup(html.read(), \"html.parser\") \n",
    "        data = bsObj.body.h1\n",
    "    except HTTPError as e:\n",
    "        print('The server returned an HTTP error') \n",
    "    except URLError as e:\n",
    "        print('The server could not be found!') \n",
    "    except AttributeError as e:\n",
    "        return None\n",
    "    return data\n",
    "\n",
    "title = read_html(url['url1'])\n",
    "if title == None:\n",
    "    print('no title in url1')\n",
    "else:\n",
    "    print('url1 :')\n",
    "    print(title)\n",
    "\n",
    "title = read_html(url['url2'])\n",
    "if title == None:\n",
    "    print('no title in url2')\n",
    "else:\n",
    "    print('url2 :')\n",
    "    print(title)\n",
    "\n",
    "title = read_html(url['url3'])\n",
    "if title == None:\n",
    "    print('no title in url3')\n",
    "else:\n",
    "    print('url3 :')\n",
    "    print(title)"
   ]
  },
  {
   "cell_type": "code",
   "execution_count": 5,
   "metadata": {},
   "outputs": [
    {
     "output_type": "stream",
     "name": "stdout",
     "text": "['Anna\\nPavlovna Scherer', 'Empress Marya\\nFedorovna', 'Prince Vasili Kuragin']\n['The prince', 'Anna Pavlovna', 'the Empress']\n"
    }
   ],
   "source": [
    "\n",
    "obj = BeautifulSoup(urlopen(url['url2']), 'html.parser')\n",
    "nameList = obj.findAll('span', {'class': 'green'}) # Scraping all text in tag span, with class='green'\n",
    "\n",
    "# Simpan text di dalam sebuah list 'namelist'\n",
    "namelist = [name.get_text() for name in nameList]\n",
    "\n",
    "# Dari list tersebut kemudian ambil text yang bersifat unik saja\n",
    "uniquename = []\n",
    "def prince(n) :\n",
    "    name = str.replace(n, 'the prince', 'The prince')\n",
    "    return name\n",
    "\n",
    "count = Counter(map(prince, namelist))\n",
    "unik = list(data for datas, n in count.most_common() for data in [datas])\n",
    "for i in unik:\n",
    "    if i not in uniquename :\n",
    "        uniquename.append(i)\n",
    "\n",
    "print(namelist[:3])\n",
    "print(uniquename[:3])\n",
    "\n",
    "# Output yang seharusnya:\n",
    "# ['Anna\\nPavlovna Scherer', 'Empress Marya\\nFedorovna', 'Prince Vasili Kuragin']\n",
    "# ['The prince', 'Anna Pavlovna', 'the Empress']"
   ]
  },
  {
   "cell_type": "code",
   "execution_count": 6,
   "metadata": {},
   "outputs": [
    {
     "output_type": "stream",
     "name": "stdout",
     "text": "['Anna Pavlovna Scherer', 'Empress Marya Fedorovna', 'Prince Vasili Kuragin']\n"
    }
   ],
   "source": [
    "# Hapus karakter \"\\n\" yang terdapat di dalam 'namelist'\n",
    "namelist = [name.get_text().replace('\\n', ' ') for name in nameList]\n",
    "\n",
    "\n",
    "print(namelist[:3])\n",
    "\n",
    "# Output yang seharusnya:\n",
    "# ['Anna Pavlovna Scherer', 'Empress Marya Fedorovna', 'Prince Vasili Kuragin']"
   ]
  },
  {
   "cell_type": "code",
   "execution_count": 7,
   "metadata": {},
   "outputs": [
    {
     "output_type": "stream",
     "name": "stdout",
     "text": "['Anatole', 'Rohans']\n"
    }
   ],
   "source": [
    "# Di dalam objek 'uniquename', print nama yang panjangnya tidak lebih dari 8 karakter\n",
    "filtered = filter(lambda name: len(name) <= 8, uniquename)\n",
    "result_list = sorted(list(filtered))\n",
    "print(result_list)\n",
    "    \n",
    "# Output yang seharusnya:\n",
    "# ['Anatole', 'Rohans']"
   ]
  },
  {
   "cell_type": "code",
   "execution_count": null,
   "metadata": {},
   "outputs": [],
   "source": []
  },
  {
   "cell_type": "code",
   "execution_count": null,
   "metadata": {},
   "outputs": [],
   "source": []
  }
 ],
 "metadata": {
  "kernelspec": {
   "display_name": "Python 3.8.2 32-bit",
   "language": "python",
   "name": "python38232bit44314210aa9f45719aac3a6b2a88dfd3"
  },
  "language_info": {
   "codemirror_mode": {
    "name": "ipython",
    "version": 3
   },
   "file_extension": ".py",
   "mimetype": "text/x-python",
   "name": "python",
   "nbconvert_exporter": "python",
   "pygments_lexer": "ipython3",
   "version": "3.8.2-final"
  }
 },
 "nbformat": 4,
 "nbformat_minor": 4
}